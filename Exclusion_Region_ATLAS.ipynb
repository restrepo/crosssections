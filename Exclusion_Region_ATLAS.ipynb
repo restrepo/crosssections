{
 "cells": [
  {
   "cell_type": "markdown",
   "metadata": {},
   "source": [
    "# Dilepton searches"
   ]
  },
  {
   "cell_type": "code",
   "execution_count": 2,
   "metadata": {},
   "outputs": [
    {
     "name": "stdout",
     "output_type": "stream",
     "text": [
      "Populating the interactive namespace from numpy and matplotlib\n"
     ]
    }
   ],
   "source": [
    "%pylab inline"
   ]
  },
  {
   "cell_type": "code",
   "execution_count": 3,
   "metadata": {
    "collapsed": true
   },
   "outputs": [],
   "source": [
    "import numpy as np\n",
    "import pandas as pd"
   ]
  },
  {
   "cell_type": "code",
   "execution_count": 13,
   "metadata": {
    "collapsed": true
   },
   "outputs": [],
   "source": [
    "drive_file={\n",
    "    '8xsquarkcs.csv'                    :'1vBeXxa5rJjz7EFq1PgITfGCYJN5S8qVNRkXL8Nk452E',\n",
    "    'triplet_fermion_cross_section_8TeV':'1DIHeB5xre_EnHDi7UBb25g6WHr1g7cpp7GtU67xJnyk',\n",
    "    'doublet_fermion_cross_section_8TeV':'1YsekdtaDC-IH0ddZD7a93necEsD4cV8tEvC-8RCWUGc',\n",
    "    'stau_cross_section_8TeV'           :'1A6DmOk_Rd_SCGLN6EuSalUCF6ZeEGmmEDNrt77haGoo',\n",
    "    'ATLAS_data.txt'                    :'0BxoOXsn2EUNIOEdTNWFOa0tCcEE',\n",
    "    'xsmm.FF.dt'                        :'0BxoOXsn2EUNIaXZzTHE3Zk9UeTg'\n",
    "}"
   ]
  },
  {
   "cell_type": "code",
   "execution_count": 7,
   "metadata": {
    "collapsed": true
   },
   "outputs": [],
   "source": [
    "from google_drive_tools import *"
   ]
  },
  {
   "cell_type": "code",
   "execution_count": 14,
   "metadata": {},
   "outputs": [],
   "source": [
    "xsmm=download_file_from_google_drive(drive_file['xsmm.FF.dt'],binary=False)\n",
    "names = ['# muval', 'm2val', 'm1val', 'm1', 'm2', 'mn1', 'mn2', 'mc1', 'mhl', 'xs', 'kxs']\n",
    "f = np.loadtxt(xsmm)\n",
    "df = pd.DataFrame(f, columns=names)"
   ]
  },
  {
   "cell_type": "code",
   "execution_count": 12,
   "metadata": {
    "collapsed": true
   },
   "outputs": [],
   "source": [
    "# data from ATLAS \n",
    "ATLAS_txt=download_file_from_google_drive(drive_file['ATLAS_data.txt'],binary=False)\n",
    "names = ['x_Mslepton_Gev', 'xlow', 'xhigh', 'x2_Mneutralino_GeV', 'x2low', 'x2high', 'y_sigma_fb']\n",
    "atlas = np.loadtxt(ATLAS_txt, skiprows=11)\n",
    "data_exp = pd.DataFrame(atlas, columns=names)"
   ]
  },
  {
   "cell_type": "markdown",
   "metadata": {},
   "source": [
    "# Cross section from Prospino"
   ]
  },
  {
   "cell_type": "code",
   "execution_count": 16,
   "metadata": {},
   "outputs": [
    {
     "data": {
      "text/html": [
       "<div>\n",
       "<table border=\"1\" class=\"dataframe\">\n",
       "  <thead>\n",
       "    <tr style=\"text-align: right;\">\n",
       "      <th></th>\n",
       "      <th># muval</th>\n",
       "      <th>m2val</th>\n",
       "      <th>m1val</th>\n",
       "      <th>m1</th>\n",
       "      <th>m2</th>\n",
       "      <th>mn1</th>\n",
       "      <th>mn2</th>\n",
       "      <th>mc1</th>\n",
       "      <th>mhl</th>\n",
       "      <th>xs</th>\n",
       "      <th>kxs</th>\n",
       "    </tr>\n",
       "  </thead>\n",
       "  <tbody>\n",
       "    <tr>\n",
       "      <th>0</th>\n",
       "      <td>5000.0</td>\n",
       "      <td>100.51</td>\n",
       "      <td>10.0</td>\n",
       "      <td>99.9</td>\n",
       "      <td>99.9</td>\n",
       "      <td>9.9746</td>\n",
       "      <td>99.8881</td>\n",
       "      <td>99.8881</td>\n",
       "      <td>124.30409</td>\n",
       "      <td>536.5000</td>\n",
       "      <td>1.283087</td>\n",
       "    </tr>\n",
       "    <tr>\n",
       "      <th>1</th>\n",
       "      <td>5000.0</td>\n",
       "      <td>125.55</td>\n",
       "      <td>10.0</td>\n",
       "      <td>124.9</td>\n",
       "      <td>124.9</td>\n",
       "      <td>9.9746</td>\n",
       "      <td>124.8816</td>\n",
       "      <td>124.8816</td>\n",
       "      <td>124.25328</td>\n",
       "      <td>240.9000</td>\n",
       "      <td>1.273256</td>\n",
       "    </tr>\n",
       "    <tr>\n",
       "      <th>2</th>\n",
       "      <td>5000.0</td>\n",
       "      <td>150.59</td>\n",
       "      <td>10.0</td>\n",
       "      <td>149.9</td>\n",
       "      <td>149.9</td>\n",
       "      <td>9.9746</td>\n",
       "      <td>149.8751</td>\n",
       "      <td>149.8751</td>\n",
       "      <td>124.21366</td>\n",
       "      <td>123.5000</td>\n",
       "      <td>1.264428</td>\n",
       "    </tr>\n",
       "    <tr>\n",
       "      <th>3</th>\n",
       "      <td>5000.0</td>\n",
       "      <td>175.63</td>\n",
       "      <td>10.0</td>\n",
       "      <td>174.9</td>\n",
       "      <td>174.9</td>\n",
       "      <td>9.9746</td>\n",
       "      <td>174.8686</td>\n",
       "      <td>174.8686</td>\n",
       "      <td>124.18093</td>\n",
       "      <td>69.1200</td>\n",
       "      <td>1.256526</td>\n",
       "    </tr>\n",
       "    <tr>\n",
       "      <th>4</th>\n",
       "      <td>5000.0</td>\n",
       "      <td>200.67</td>\n",
       "      <td>10.0</td>\n",
       "      <td>199.9</td>\n",
       "      <td>199.9</td>\n",
       "      <td>9.9746</td>\n",
       "      <td>199.8621</td>\n",
       "      <td>199.8620</td>\n",
       "      <td>124.15289</td>\n",
       "      <td>41.2200</td>\n",
       "      <td>1.249075</td>\n",
       "    </tr>\n",
       "    <tr>\n",
       "      <th>5</th>\n",
       "      <td>5000.0</td>\n",
       "      <td>225.71</td>\n",
       "      <td>10.0</td>\n",
       "      <td>224.9</td>\n",
       "      <td>224.9</td>\n",
       "      <td>9.9746</td>\n",
       "      <td>224.8555</td>\n",
       "      <td>224.8555</td>\n",
       "      <td>124.12829</td>\n",
       "      <td>25.8000</td>\n",
       "      <td>1.242583</td>\n",
       "    </tr>\n",
       "    <tr>\n",
       "      <th>6</th>\n",
       "      <td>5000.0</td>\n",
       "      <td>250.75</td>\n",
       "      <td>10.0</td>\n",
       "      <td>249.8</td>\n",
       "      <td>249.8</td>\n",
       "      <td>9.9746</td>\n",
       "      <td>249.8490</td>\n",
       "      <td>249.8490</td>\n",
       "      <td>124.10632</td>\n",
       "      <td>16.8700</td>\n",
       "      <td>1.244184</td>\n",
       "    </tr>\n",
       "    <tr>\n",
       "      <th>7</th>\n",
       "      <td>5000.0</td>\n",
       "      <td>275.79</td>\n",
       "      <td>10.0</td>\n",
       "      <td>274.8</td>\n",
       "      <td>274.8</td>\n",
       "      <td>9.9746</td>\n",
       "      <td>274.8424</td>\n",
       "      <td>274.8424</td>\n",
       "      <td>124.08643</td>\n",
       "      <td>11.1300</td>\n",
       "      <td>1.219821</td>\n",
       "    </tr>\n",
       "    <tr>\n",
       "      <th>8</th>\n",
       "      <td>5000.0</td>\n",
       "      <td>300.83</td>\n",
       "      <td>10.0</td>\n",
       "      <td>299.8</td>\n",
       "      <td>299.8</td>\n",
       "      <td>9.9746</td>\n",
       "      <td>299.8358</td>\n",
       "      <td>299.8358</td>\n",
       "      <td>124.06822</td>\n",
       "      <td>7.6160</td>\n",
       "      <td>1.210042</td>\n",
       "    </tr>\n",
       "    <tr>\n",
       "      <th>9</th>\n",
       "      <td>5000.0</td>\n",
       "      <td>325.87</td>\n",
       "      <td>10.0</td>\n",
       "      <td>324.8</td>\n",
       "      <td>324.8</td>\n",
       "      <td>9.9746</td>\n",
       "      <td>324.8293</td>\n",
       "      <td>324.8292</td>\n",
       "      <td>124.05141</td>\n",
       "      <td>5.3930</td>\n",
       "      <td>1.216992</td>\n",
       "    </tr>\n",
       "    <tr>\n",
       "      <th>10</th>\n",
       "      <td>5000.0</td>\n",
       "      <td>350.91</td>\n",
       "      <td>10.0</td>\n",
       "      <td>349.8</td>\n",
       "      <td>349.8</td>\n",
       "      <td>9.9746</td>\n",
       "      <td>349.8226</td>\n",
       "      <td>349.8226</td>\n",
       "      <td>124.03577</td>\n",
       "      <td>3.8080</td>\n",
       "      <td>1.199174</td>\n",
       "    </tr>\n",
       "    <tr>\n",
       "      <th>11</th>\n",
       "      <td>5000.0</td>\n",
       "      <td>375.95</td>\n",
       "      <td>10.0</td>\n",
       "      <td>374.8</td>\n",
       "      <td>374.8</td>\n",
       "      <td>9.9746</td>\n",
       "      <td>374.8160</td>\n",
       "      <td>374.8160</td>\n",
       "      <td>124.02113</td>\n",
       "      <td>2.7600</td>\n",
       "      <td>1.194916</td>\n",
       "    </tr>\n",
       "    <tr>\n",
       "      <th>12</th>\n",
       "      <td>5000.0</td>\n",
       "      <td>400.99</td>\n",
       "      <td>10.0</td>\n",
       "      <td>399.8</td>\n",
       "      <td>399.8</td>\n",
       "      <td>9.9746</td>\n",
       "      <td>399.8094</td>\n",
       "      <td>399.8094</td>\n",
       "      <td>124.00735</td>\n",
       "      <td>2.0560</td>\n",
       "      <td>1.208039</td>\n",
       "    </tr>\n",
       "    <tr>\n",
       "      <th>13</th>\n",
       "      <td>5000.0</td>\n",
       "      <td>426.03</td>\n",
       "      <td>10.0</td>\n",
       "      <td>425.8</td>\n",
       "      <td>425.8</td>\n",
       "      <td>9.9746</td>\n",
       "      <td>425.8024</td>\n",
       "      <td>425.8024</td>\n",
       "      <td>123.99382</td>\n",
       "      <td>1.4740</td>\n",
       "      <td>1.175163</td>\n",
       "    </tr>\n",
       "    <tr>\n",
       "      <th>14</th>\n",
       "      <td>5000.0</td>\n",
       "      <td>451.07</td>\n",
       "      <td>10.0</td>\n",
       "      <td>450.8</td>\n",
       "      <td>450.8</td>\n",
       "      <td>9.9746</td>\n",
       "      <td>450.7958</td>\n",
       "      <td>450.7957</td>\n",
       "      <td>123.98148</td>\n",
       "      <td>1.1180</td>\n",
       "      <td>1.184359</td>\n",
       "    </tr>\n",
       "    <tr>\n",
       "      <th>15</th>\n",
       "      <td>5000.0</td>\n",
       "      <td>476.11</td>\n",
       "      <td>10.0</td>\n",
       "      <td>475.8</td>\n",
       "      <td>475.8</td>\n",
       "      <td>9.9746</td>\n",
       "      <td>475.7890</td>\n",
       "      <td>475.7890</td>\n",
       "      <td>123.96972</td>\n",
       "      <td>0.8491</td>\n",
       "      <td>1.183694</td>\n",
       "    </tr>\n",
       "    <tr>\n",
       "      <th>16</th>\n",
       "      <td>5000.0</td>\n",
       "      <td>501.15</td>\n",
       "      <td>10.0</td>\n",
       "      <td>500.9</td>\n",
       "      <td>500.9</td>\n",
       "      <td>9.9746</td>\n",
       "      <td>500.9323</td>\n",
       "      <td>500.9323</td>\n",
       "      <td>123.95841</td>\n",
       "      <td>0.6479</td>\n",
       "      <td>1.181552</td>\n",
       "    </tr>\n",
       "  </tbody>\n",
       "</table>\n",
       "</div>"
      ],
      "text/plain": [
       "    # muval   m2val  m1val     m1     m2     mn1       mn2       mc1  \\\n",
       "0    5000.0  100.51   10.0   99.9   99.9  9.9746   99.8881   99.8881   \n",
       "1    5000.0  125.55   10.0  124.9  124.9  9.9746  124.8816  124.8816   \n",
       "2    5000.0  150.59   10.0  149.9  149.9  9.9746  149.8751  149.8751   \n",
       "3    5000.0  175.63   10.0  174.9  174.9  9.9746  174.8686  174.8686   \n",
       "4    5000.0  200.67   10.0  199.9  199.9  9.9746  199.8621  199.8620   \n",
       "5    5000.0  225.71   10.0  224.9  224.9  9.9746  224.8555  224.8555   \n",
       "6    5000.0  250.75   10.0  249.8  249.8  9.9746  249.8490  249.8490   \n",
       "7    5000.0  275.79   10.0  274.8  274.8  9.9746  274.8424  274.8424   \n",
       "8    5000.0  300.83   10.0  299.8  299.8  9.9746  299.8358  299.8358   \n",
       "9    5000.0  325.87   10.0  324.8  324.8  9.9746  324.8293  324.8292   \n",
       "10   5000.0  350.91   10.0  349.8  349.8  9.9746  349.8226  349.8226   \n",
       "11   5000.0  375.95   10.0  374.8  374.8  9.9746  374.8160  374.8160   \n",
       "12   5000.0  400.99   10.0  399.8  399.8  9.9746  399.8094  399.8094   \n",
       "13   5000.0  426.03   10.0  425.8  425.8  9.9746  425.8024  425.8024   \n",
       "14   5000.0  451.07   10.0  450.8  450.8  9.9746  450.7958  450.7957   \n",
       "15   5000.0  476.11   10.0  475.8  475.8  9.9746  475.7890  475.7890   \n",
       "16   5000.0  501.15   10.0  500.9  500.9  9.9746  500.9323  500.9323   \n",
       "\n",
       "          mhl        xs       kxs  \n",
       "0   124.30409  536.5000  1.283087  \n",
       "1   124.25328  240.9000  1.273256  \n",
       "2   124.21366  123.5000  1.264428  \n",
       "3   124.18093   69.1200  1.256526  \n",
       "4   124.15289   41.2200  1.249075  \n",
       "5   124.12829   25.8000  1.242583  \n",
       "6   124.10632   16.8700  1.244184  \n",
       "7   124.08643   11.1300  1.219821  \n",
       "8   124.06822    7.6160  1.210042  \n",
       "9   124.05141    5.3930  1.216992  \n",
       "10  124.03577    3.8080  1.199174  \n",
       "11  124.02113    2.7600  1.194916  \n",
       "12  124.00735    2.0560  1.208039  \n",
       "13  123.99382    1.4740  1.175163  \n",
       "14  123.98148    1.1180  1.184359  \n",
       "15  123.96972    0.8491  1.183694  \n",
       "16  123.95841    0.6479  1.181552  "
      ]
     },
     "execution_count": 16,
     "metadata": {},
     "output_type": "execute_result"
    }
   ],
   "source": [
    "df"
   ]
  },
  {
   "cell_type": "code",
   "execution_count": 17,
   "metadata": {},
   "outputs": [
    {
     "data": {
      "text/plain": [
       "[<matplotlib.lines.Line2D at 0x7f25444cc250>]"
      ]
     },
     "execution_count": 17,
     "metadata": {},
     "output_type": "execute_result"
    },
    {
     "data": {
      "image/png": "[encoded data removed]",
      "text/plain": [
       "<matplotlib.figure.Figure at 0x7f2546c1ab10>"
      ]
     },
     "metadata": {},
     "output_type": "display_data"
    }
   ],
   "source": [
    "loglog(df['mc1'], df['xs'], 'r.')"
   ]
  },
  {
   "cell_type": "code",
   "execution_count": 18,
   "metadata": {},
   "outputs": [],
   "source": [
    "x = np.array(df['mc1'])\n",
    "y = np.array(df['xs'])"
   ]
  },
  {
   "cell_type": "code",
   "execution_count": 19,
   "metadata": {},
   "outputs": [
    {
     "data": {
      "text/plain": [
       "array([-0.01595323,  7.12349873])"
      ]
     },
     "execution_count": 19,
     "metadata": {},
     "output_type": "execute_result"
    }
   ],
   "source": [
    "p1 = np.polyfit(x, np.log(y),1)\n",
    "p1"
   ]
  },
  {
   "cell_type": "code",
   "execution_count": 20,
   "metadata": {},
   "outputs": [
    {
     "name": "stdout",
     "output_type": "stream",
     "text": [
      "1240.78402179 -0.0159532312871\n"
     ]
    }
   ],
   "source": [
    "a=exp(p1[1])\n",
    "b=p1[0]\n",
    "xx = np.linspace(100.0,400.0)\n",
    "yy = a*np.exp(b*xx)\n",
    "print a, b"
   ]
  },
  {
   "cell_type": "code",
   "execution_count": 21,
   "metadata": {},
   "outputs": [
    {
     "data": {
      "text/plain": [
       "[<matplotlib.lines.Line2D at 0x7f25442d8e50>]"
      ]
     },
     "execution_count": 21,
     "metadata": {},
     "output_type": "execute_result"
    },
    {
     "data": {
      "image/png": "[encoded data removed]",
      "text/plain": [
       "<matplotlib.figure.Figure at 0x7f2546b34810>"
      ]
     },
     "metadata": {},
     "output_type": "display_data"
    }
   ],
   "source": [
    "plot(df['mc1'], df['xs'], 'r.')\n",
    "plot(xx, yy, 'b-')"
   ]
  },
  {
   "cell_type": "code",
   "execution_count": 22,
   "metadata": {},
   "outputs": [
    {
     "data": {
      "text/plain": [
       "array([ -4.18756921,  25.8022166 ])"
      ]
     },
     "execution_count": 22,
     "metadata": {},
     "output_type": "execute_result"
    }
   ],
   "source": [
    "p2 = np.polyfit(np.log(x), np.log(y),1)\n",
    "p2"
   ]
  },
  {
   "cell_type": "code",
   "execution_count": 23,
   "metadata": {},
   "outputs": [
    {
     "name": "stdout",
     "output_type": "stream",
     "text": [
      "160605453557.0 -4.18756921145\n"
     ]
    }
   ],
   "source": [
    "a=exp(p2[1])\n",
    "b=p2[0]\n",
    "xx = np.linspace(100.0,520.0)\n",
    "yy = a*xx**b\n",
    "print a, b"
   ]
  },
  {
   "cell_type": "code",
   "execution_count": 24,
   "metadata": {},
   "outputs": [
    {
     "data": {
      "text/plain": [
       "[<matplotlib.lines.Line2D at 0x7f2546b34290>]"
      ]
     },
     "execution_count": 24,
     "metadata": {},
     "output_type": "execute_result"
    },
    {
     "data": {
      "image/png": "[encoded data removed]",
      "text/plain": [
       "<matplotlib.figure.Figure at 0x7f25441ee550>"
      ]
     },
     "metadata": {},
     "output_type": "display_data"
    }
   ],
   "source": [
    "plot(df['mc1'], df['xs'], 'r.')\n",
    "plot(xx, yy, 'b-')"
   ]
  },
  {
   "cell_type": "markdown",
   "metadata": {},
   "source": [
    "# Exclusion Regions"
   ]
  },
  {
   "cell_type": "code",
   "execution_count": 25,
   "metadata": {},
   "outputs": [
    {
     "data": {
      "text/html": [
       "<div>\n",
       "<table border=\"1\" class=\"dataframe\">\n",
       "  <thead>\n",
       "    <tr style=\"text-align: right;\">\n",
       "      <th></th>\n",
       "      <th>x_Mslepton_Gev</th>\n",
       "      <th>xlow</th>\n",
       "      <th>xhigh</th>\n",
       "      <th>x2_Mneutralino_GeV</th>\n",
       "      <th>x2low</th>\n",
       "      <th>x2high</th>\n",
       "      <th>y_sigma_fb</th>\n",
       "    </tr>\n",
       "  </thead>\n",
       "  <tbody>\n",
       "    <tr>\n",
       "      <th>0</th>\n",
       "      <td>101.41</td>\n",
       "      <td>101.41</td>\n",
       "      <td>101.41</td>\n",
       "      <td>19.84</td>\n",
       "      <td>19.84</td>\n",
       "      <td>19.84</td>\n",
       "      <td>72.03</td>\n",
       "    </tr>\n",
       "    <tr>\n",
       "      <th>1</th>\n",
       "      <td>101.41</td>\n",
       "      <td>101.41</td>\n",
       "      <td>101.41</td>\n",
       "      <td>29.84</td>\n",
       "      <td>29.84</td>\n",
       "      <td>29.84</td>\n",
       "      <td>569.80</td>\n",
       "    </tr>\n",
       "    <tr>\n",
       "      <th>2</th>\n",
       "      <td>101.41</td>\n",
       "      <td>101.41</td>\n",
       "      <td>101.41</td>\n",
       "      <td>49.83</td>\n",
       "      <td>49.83</td>\n",
       "      <td>49.83</td>\n",
       "      <td>2621.74</td>\n",
       "    </tr>\n",
       "    <tr>\n",
       "      <th>3</th>\n",
       "      <td>110.38</td>\n",
       "      <td>110.38</td>\n",
       "      <td>110.38</td>\n",
       "      <td>0.00</td>\n",
       "      <td>0.00</td>\n",
       "      <td>0.00</td>\n",
       "      <td>29.21</td>\n",
       "    </tr>\n",
       "    <tr>\n",
       "      <th>4</th>\n",
       "      <td>119.51</td>\n",
       "      <td>119.51</td>\n",
       "      <td>119.51</td>\n",
       "      <td>9.84</td>\n",
       "      <td>9.84</td>\n",
       "      <td>9.84</td>\n",
       "      <td>20.06</td>\n",
       "    </tr>\n",
       "    <tr>\n",
       "      <th>5</th>\n",
       "      <td>119.51</td>\n",
       "      <td>119.51</td>\n",
       "      <td>119.51</td>\n",
       "      <td>29.84</td>\n",
       "      <td>29.84</td>\n",
       "      <td>29.84</td>\n",
       "      <td>37.14</td>\n",
       "    </tr>\n",
       "    <tr>\n",
       "      <th>6</th>\n",
       "      <td>119.51</td>\n",
       "      <td>119.51</td>\n",
       "      <td>119.51</td>\n",
       "      <td>49.83</td>\n",
       "      <td>49.83</td>\n",
       "      <td>49.83</td>\n",
       "      <td>108.10</td>\n",
       "    </tr>\n",
       "    <tr>\n",
       "      <th>7</th>\n",
       "      <td>128.78</td>\n",
       "      <td>128.78</td>\n",
       "      <td>128.78</td>\n",
       "      <td>0.00</td>\n",
       "      <td>0.00</td>\n",
       "      <td>0.00</td>\n",
       "      <td>16.83</td>\n",
       "    </tr>\n",
       "    <tr>\n",
       "      <th>8</th>\n",
       "      <td>128.78</td>\n",
       "      <td>128.78</td>\n",
       "      <td>128.78</td>\n",
       "      <td>19.84</td>\n",
       "      <td>19.84</td>\n",
       "      <td>19.84</td>\n",
       "      <td>15.39</td>\n",
       "    </tr>\n",
       "    <tr>\n",
       "      <th>9</th>\n",
       "      <td>128.78</td>\n",
       "      <td>128.78</td>\n",
       "      <td>128.78</td>\n",
       "      <td>39.83</td>\n",
       "      <td>39.83</td>\n",
       "      <td>39.83</td>\n",
       "      <td>16.56</td>\n",
       "    </tr>\n",
       "    <tr>\n",
       "      <th>10</th>\n",
       "      <td>128.78</td>\n",
       "      <td>128.78</td>\n",
       "      <td>128.78</td>\n",
       "      <td>59.83</td>\n",
       "      <td>59.83</td>\n",
       "      <td>59.83</td>\n",
       "      <td>68.65</td>\n",
       "    </tr>\n",
       "    <tr>\n",
       "      <th>11</th>\n",
       "      <td>138.14</td>\n",
       "      <td>138.14</td>\n",
       "      <td>138.14</td>\n",
       "      <td>9.84</td>\n",
       "      <td>9.84</td>\n",
       "      <td>9.84</td>\n",
       "      <td>12.03</td>\n",
       "    </tr>\n",
       "    <tr>\n",
       "      <th>12</th>\n",
       "      <td>138.14</td>\n",
       "      <td>138.14</td>\n",
       "      <td>138.14</td>\n",
       "      <td>29.84</td>\n",
       "      <td>29.84</td>\n",
       "      <td>29.84</td>\n",
       "      <td>13.00</td>\n",
       "    </tr>\n",
       "    <tr>\n",
       "      <th>13</th>\n",
       "      <td>138.14</td>\n",
       "      <td>138.14</td>\n",
       "      <td>138.14</td>\n",
       "      <td>49.83</td>\n",
       "      <td>49.83</td>\n",
       "      <td>49.83</td>\n",
       "      <td>15.92</td>\n",
       "    </tr>\n",
       "    <tr>\n",
       "      <th>14</th>\n",
       "      <td>138.14</td>\n",
       "      <td>138.14</td>\n",
       "      <td>138.14</td>\n",
       "      <td>69.82</td>\n",
       "      <td>69.82</td>\n",
       "      <td>69.82</td>\n",
       "      <td>54.26</td>\n",
       "    </tr>\n",
       "    <tr>\n",
       "      <th>15</th>\n",
       "      <td>147.59</td>\n",
       "      <td>147.59</td>\n",
       "      <td>147.59</td>\n",
       "      <td>39.83</td>\n",
       "      <td>39.83</td>\n",
       "      <td>39.83</td>\n",
       "      <td>9.70</td>\n",
       "    </tr>\n",
       "    <tr>\n",
       "      <th>16</th>\n",
       "      <td>147.59</td>\n",
       "      <td>147.59</td>\n",
       "      <td>147.59</td>\n",
       "      <td>59.83</td>\n",
       "      <td>59.83</td>\n",
       "      <td>59.83</td>\n",
       "      <td>17.22</td>\n",
       "    </tr>\n",
       "    <tr>\n",
       "      <th>17</th>\n",
       "      <td>147.59</td>\n",
       "      <td>147.59</td>\n",
       "      <td>147.59</td>\n",
       "      <td>79.82</td>\n",
       "      <td>79.82</td>\n",
       "      <td>79.82</td>\n",
       "      <td>49.28</td>\n",
       "    </tr>\n",
       "    <tr>\n",
       "      <th>18</th>\n",
       "      <td>157.11</td>\n",
       "      <td>157.11</td>\n",
       "      <td>157.11</td>\n",
       "      <td>9.84</td>\n",
       "      <td>9.84</td>\n",
       "      <td>9.84</td>\n",
       "      <td>8.13</td>\n",
       "    </tr>\n",
       "    <tr>\n",
       "      <th>19</th>\n",
       "      <td>157.11</td>\n",
       "      <td>157.11</td>\n",
       "      <td>157.11</td>\n",
       "      <td>29.84</td>\n",
       "      <td>29.84</td>\n",
       "      <td>29.84</td>\n",
       "      <td>8.79</td>\n",
       "    </tr>\n",
       "    <tr>\n",
       "      <th>20</th>\n",
       "      <td>157.11</td>\n",
       "      <td>157.11</td>\n",
       "      <td>157.11</td>\n",
       "      <td>49.83</td>\n",
       "      <td>49.83</td>\n",
       "      <td>49.83</td>\n",
       "      <td>8.92</td>\n",
       "    </tr>\n",
       "    <tr>\n",
       "      <th>21</th>\n",
       "      <td>157.11</td>\n",
       "      <td>157.11</td>\n",
       "      <td>157.11</td>\n",
       "      <td>69.82</td>\n",
       "      <td>69.82</td>\n",
       "      <td>69.82</td>\n",
       "      <td>14.82</td>\n",
       "    </tr>\n",
       "    <tr>\n",
       "      <th>22</th>\n",
       "      <td>157.11</td>\n",
       "      <td>157.11</td>\n",
       "      <td>157.11</td>\n",
       "      <td>89.82</td>\n",
       "      <td>89.82</td>\n",
       "      <td>89.82</td>\n",
       "      <td>39.71</td>\n",
       "    </tr>\n",
       "    <tr>\n",
       "      <th>23</th>\n",
       "      <td>166.68</td>\n",
       "      <td>166.68</td>\n",
       "      <td>166.68</td>\n",
       "      <td>0.00</td>\n",
       "      <td>0.00</td>\n",
       "      <td>0.00</td>\n",
       "      <td>6.45</td>\n",
       "    </tr>\n",
       "    <tr>\n",
       "      <th>24</th>\n",
       "      <td>166.68</td>\n",
       "      <td>166.68</td>\n",
       "      <td>166.68</td>\n",
       "      <td>19.84</td>\n",
       "      <td>19.84</td>\n",
       "      <td>19.84</td>\n",
       "      <td>7.79</td>\n",
       "    </tr>\n",
       "    <tr>\n",
       "      <th>25</th>\n",
       "      <td>166.68</td>\n",
       "      <td>166.68</td>\n",
       "      <td>166.68</td>\n",
       "      <td>39.83</td>\n",
       "      <td>39.83</td>\n",
       "      <td>39.83</td>\n",
       "      <td>8.51</td>\n",
       "    </tr>\n",
       "    <tr>\n",
       "      <th>26</th>\n",
       "      <td>166.68</td>\n",
       "      <td>166.68</td>\n",
       "      <td>166.68</td>\n",
       "      <td>59.83</td>\n",
       "      <td>59.83</td>\n",
       "      <td>59.83</td>\n",
       "      <td>8.16</td>\n",
       "    </tr>\n",
       "    <tr>\n",
       "      <th>27</th>\n",
       "      <td>166.68</td>\n",
       "      <td>166.68</td>\n",
       "      <td>166.68</td>\n",
       "      <td>79.82</td>\n",
       "      <td>79.82</td>\n",
       "      <td>79.82</td>\n",
       "      <td>16.47</td>\n",
       "    </tr>\n",
       "    <tr>\n",
       "      <th>28</th>\n",
       "      <td>176.31</td>\n",
       "      <td>176.31</td>\n",
       "      <td>176.31</td>\n",
       "      <td>9.84</td>\n",
       "      <td>9.84</td>\n",
       "      <td>9.84</td>\n",
       "      <td>4.39</td>\n",
       "    </tr>\n",
       "    <tr>\n",
       "      <th>29</th>\n",
       "      <td>176.31</td>\n",
       "      <td>176.31</td>\n",
       "      <td>176.31</td>\n",
       "      <td>29.84</td>\n",
       "      <td>29.84</td>\n",
       "      <td>29.84</td>\n",
       "      <td>5.42</td>\n",
       "    </tr>\n",
       "    <tr>\n",
       "      <th>...</th>\n",
       "      <td>...</td>\n",
       "      <td>...</td>\n",
       "      <td>...</td>\n",
       "      <td>...</td>\n",
       "      <td>...</td>\n",
       "      <td>...</td>\n",
       "      <td>...</td>\n",
       "    </tr>\n",
       "    <tr>\n",
       "      <th>231</th>\n",
       "      <td>342.21</td>\n",
       "      <td>342.21</td>\n",
       "      <td>342.21</td>\n",
       "      <td>14.84</td>\n",
       "      <td>14.84</td>\n",
       "      <td>14.84</td>\n",
       "      <td>2.30</td>\n",
       "    </tr>\n",
       "    <tr>\n",
       "      <th>232</th>\n",
       "      <td>342.21</td>\n",
       "      <td>342.21</td>\n",
       "      <td>342.21</td>\n",
       "      <td>134.80</td>\n",
       "      <td>134.80</td>\n",
       "      <td>134.80</td>\n",
       "      <td>3.03</td>\n",
       "    </tr>\n",
       "    <tr>\n",
       "      <th>233</th>\n",
       "      <td>344.19</td>\n",
       "      <td>344.19</td>\n",
       "      <td>344.19</td>\n",
       "      <td>89.82</td>\n",
       "      <td>89.82</td>\n",
       "      <td>89.82</td>\n",
       "      <td>2.67</td>\n",
       "    </tr>\n",
       "    <tr>\n",
       "      <th>234</th>\n",
       "      <td>346.17</td>\n",
       "      <td>346.17</td>\n",
       "      <td>346.17</td>\n",
       "      <td>44.83</td>\n",
       "      <td>44.83</td>\n",
       "      <td>44.83</td>\n",
       "      <td>2.59</td>\n",
       "    </tr>\n",
       "    <tr>\n",
       "      <th>235</th>\n",
       "      <td>346.17</td>\n",
       "      <td>346.17</td>\n",
       "      <td>346.17</td>\n",
       "      <td>164.79</td>\n",
       "      <td>164.79</td>\n",
       "      <td>164.79</td>\n",
       "      <td>3.81</td>\n",
       "    </tr>\n",
       "    <tr>\n",
       "      <th>236</th>\n",
       "      <td>348.15</td>\n",
       "      <td>348.15</td>\n",
       "      <td>348.15</td>\n",
       "      <td>0.00</td>\n",
       "      <td>0.00</td>\n",
       "      <td>0.00</td>\n",
       "      <td>2.08</td>\n",
       "    </tr>\n",
       "    <tr>\n",
       "      <th>237</th>\n",
       "      <td>348.15</td>\n",
       "      <td>348.15</td>\n",
       "      <td>348.15</td>\n",
       "      <td>119.81</td>\n",
       "      <td>119.81</td>\n",
       "      <td>119.81</td>\n",
       "      <td>2.79</td>\n",
       "    </tr>\n",
       "    <tr>\n",
       "      <th>238</th>\n",
       "      <td>350.13</td>\n",
       "      <td>350.13</td>\n",
       "      <td>350.13</td>\n",
       "      <td>74.82</td>\n",
       "      <td>74.82</td>\n",
       "      <td>74.82</td>\n",
       "      <td>2.80</td>\n",
       "    </tr>\n",
       "    <tr>\n",
       "      <th>239</th>\n",
       "      <td>350.13</td>\n",
       "      <td>350.13</td>\n",
       "      <td>350.13</td>\n",
       "      <td>194.78</td>\n",
       "      <td>194.78</td>\n",
       "      <td>194.78</td>\n",
       "      <td>2.91</td>\n",
       "    </tr>\n",
       "    <tr>\n",
       "      <th>240</th>\n",
       "      <td>352.11</td>\n",
       "      <td>352.11</td>\n",
       "      <td>352.11</td>\n",
       "      <td>29.84</td>\n",
       "      <td>29.84</td>\n",
       "      <td>29.84</td>\n",
       "      <td>2.46</td>\n",
       "    </tr>\n",
       "    <tr>\n",
       "      <th>241</th>\n",
       "      <td>352.11</td>\n",
       "      <td>352.11</td>\n",
       "      <td>352.11</td>\n",
       "      <td>149.80</td>\n",
       "      <td>149.80</td>\n",
       "      <td>149.80</td>\n",
       "      <td>2.74</td>\n",
       "    </tr>\n",
       "    <tr>\n",
       "      <th>242</th>\n",
       "      <td>354.10</td>\n",
       "      <td>354.10</td>\n",
       "      <td>354.10</td>\n",
       "      <td>104.81</td>\n",
       "      <td>104.81</td>\n",
       "      <td>104.81</td>\n",
       "      <td>2.65</td>\n",
       "    </tr>\n",
       "    <tr>\n",
       "      <th>243</th>\n",
       "      <td>355.09</td>\n",
       "      <td>355.09</td>\n",
       "      <td>355.09</td>\n",
       "      <td>59.83</td>\n",
       "      <td>59.83</td>\n",
       "      <td>59.83</td>\n",
       "      <td>2.44</td>\n",
       "    </tr>\n",
       "    <tr>\n",
       "      <th>244</th>\n",
       "      <td>355.09</td>\n",
       "      <td>355.09</td>\n",
       "      <td>355.09</td>\n",
       "      <td>179.79</td>\n",
       "      <td>179.79</td>\n",
       "      <td>179.79</td>\n",
       "      <td>3.24</td>\n",
       "    </tr>\n",
       "    <tr>\n",
       "      <th>245</th>\n",
       "      <td>357.07</td>\n",
       "      <td>357.07</td>\n",
       "      <td>357.07</td>\n",
       "      <td>14.84</td>\n",
       "      <td>14.84</td>\n",
       "      <td>14.84</td>\n",
       "      <td>2.34</td>\n",
       "    </tr>\n",
       "    <tr>\n",
       "      <th>246</th>\n",
       "      <td>357.07</td>\n",
       "      <td>357.07</td>\n",
       "      <td>357.07</td>\n",
       "      <td>134.80</td>\n",
       "      <td>134.80</td>\n",
       "      <td>134.80</td>\n",
       "      <td>3.01</td>\n",
       "    </tr>\n",
       "    <tr>\n",
       "      <th>247</th>\n",
       "      <td>359.05</td>\n",
       "      <td>359.05</td>\n",
       "      <td>359.05</td>\n",
       "      <td>89.82</td>\n",
       "      <td>89.82</td>\n",
       "      <td>89.82</td>\n",
       "      <td>2.29</td>\n",
       "    </tr>\n",
       "    <tr>\n",
       "      <th>248</th>\n",
       "      <td>359.05</td>\n",
       "      <td>359.05</td>\n",
       "      <td>359.05</td>\n",
       "      <td>209.78</td>\n",
       "      <td>209.78</td>\n",
       "      <td>209.78</td>\n",
       "      <td>5.48</td>\n",
       "    </tr>\n",
       "    <tr>\n",
       "      <th>249</th>\n",
       "      <td>361.04</td>\n",
       "      <td>361.04</td>\n",
       "      <td>361.04</td>\n",
       "      <td>44.83</td>\n",
       "      <td>44.83</td>\n",
       "      <td>44.83</td>\n",
       "      <td>2.28</td>\n",
       "    </tr>\n",
       "    <tr>\n",
       "      <th>250</th>\n",
       "      <td>361.04</td>\n",
       "      <td>361.04</td>\n",
       "      <td>361.04</td>\n",
       "      <td>164.79</td>\n",
       "      <td>164.79</td>\n",
       "      <td>164.79</td>\n",
       "      <td>2.89</td>\n",
       "    </tr>\n",
       "    <tr>\n",
       "      <th>251</th>\n",
       "      <td>363.02</td>\n",
       "      <td>363.02</td>\n",
       "      <td>363.02</td>\n",
       "      <td>0.00</td>\n",
       "      <td>0.00</td>\n",
       "      <td>0.00</td>\n",
       "      <td>2.55</td>\n",
       "    </tr>\n",
       "    <tr>\n",
       "      <th>252</th>\n",
       "      <td>363.02</td>\n",
       "      <td>363.02</td>\n",
       "      <td>363.02</td>\n",
       "      <td>119.81</td>\n",
       "      <td>119.81</td>\n",
       "      <td>119.81</td>\n",
       "      <td>2.63</td>\n",
       "    </tr>\n",
       "    <tr>\n",
       "      <th>253</th>\n",
       "      <td>365.00</td>\n",
       "      <td>365.00</td>\n",
       "      <td>365.00</td>\n",
       "      <td>74.82</td>\n",
       "      <td>74.82</td>\n",
       "      <td>74.82</td>\n",
       "      <td>2.82</td>\n",
       "    </tr>\n",
       "    <tr>\n",
       "      <th>254</th>\n",
       "      <td>365.00</td>\n",
       "      <td>365.00</td>\n",
       "      <td>365.00</td>\n",
       "      <td>194.78</td>\n",
       "      <td>194.78</td>\n",
       "      <td>194.78</td>\n",
       "      <td>3.10</td>\n",
       "    </tr>\n",
       "    <tr>\n",
       "      <th>255</th>\n",
       "      <td>366.99</td>\n",
       "      <td>366.99</td>\n",
       "      <td>366.99</td>\n",
       "      <td>29.84</td>\n",
       "      <td>29.84</td>\n",
       "      <td>29.84</td>\n",
       "      <td>2.45</td>\n",
       "    </tr>\n",
       "    <tr>\n",
       "      <th>256</th>\n",
       "      <td>366.99</td>\n",
       "      <td>366.99</td>\n",
       "      <td>366.99</td>\n",
       "      <td>149.80</td>\n",
       "      <td>149.80</td>\n",
       "      <td>149.80</td>\n",
       "      <td>2.97</td>\n",
       "    </tr>\n",
       "    <tr>\n",
       "      <th>257</th>\n",
       "      <td>368.97</td>\n",
       "      <td>368.97</td>\n",
       "      <td>368.97</td>\n",
       "      <td>104.81</td>\n",
       "      <td>104.81</td>\n",
       "      <td>104.81</td>\n",
       "      <td>2.40</td>\n",
       "    </tr>\n",
       "    <tr>\n",
       "      <th>258</th>\n",
       "      <td>370.95</td>\n",
       "      <td>370.95</td>\n",
       "      <td>370.95</td>\n",
       "      <td>59.83</td>\n",
       "      <td>59.83</td>\n",
       "      <td>59.83</td>\n",
       "      <td>2.42</td>\n",
       "    </tr>\n",
       "    <tr>\n",
       "      <th>259</th>\n",
       "      <td>370.95</td>\n",
       "      <td>370.95</td>\n",
       "      <td>370.95</td>\n",
       "      <td>179.79</td>\n",
       "      <td>179.79</td>\n",
       "      <td>179.79</td>\n",
       "      <td>3.19</td>\n",
       "    </tr>\n",
       "    <tr>\n",
       "      <th>260</th>\n",
       "      <td>370.95</td>\n",
       "      <td>370.95</td>\n",
       "      <td>370.95</td>\n",
       "      <td>179.79</td>\n",
       "      <td>179.79</td>\n",
       "      <td>179.79</td>\n",
       "      <td>3.19</td>\n",
       "    </tr>\n",
       "  </tbody>\n",
       "</table>\n",
       "<p>261 rows × 7 columns</p>\n",
       "</div>"
      ],
      "text/plain": [
       "     x_Mslepton_Gev    xlow   xhigh  x2_Mneutralino_GeV   x2low  x2high  \\\n",
       "0            101.41  101.41  101.41               19.84   19.84   19.84   \n",
       "1            101.41  101.41  101.41               29.84   29.84   29.84   \n",
       "2            101.41  101.41  101.41               49.83   49.83   49.83   \n",
       "3            110.38  110.38  110.38                0.00    0.00    0.00   \n",
       "4            119.51  119.51  119.51                9.84    9.84    9.84   \n",
       "5            119.51  119.51  119.51               29.84   29.84   29.84   \n",
       "6            119.51  119.51  119.51               49.83   49.83   49.83   \n",
       "7            128.78  128.78  128.78                0.00    0.00    0.00   \n",
       "8            128.78  128.78  128.78               19.84   19.84   19.84   \n",
       "9            128.78  128.78  128.78               39.83   39.83   39.83   \n",
       "10           128.78  128.78  128.78               59.83   59.83   59.83   \n",
       "11           138.14  138.14  138.14                9.84    9.84    9.84   \n",
       "12           138.14  138.14  138.14               29.84   29.84   29.84   \n",
       "13           138.14  138.14  138.14               49.83   49.83   49.83   \n",
       "14           138.14  138.14  138.14               69.82   69.82   69.82   \n",
       "15           147.59  147.59  147.59               39.83   39.83   39.83   \n",
       "16           147.59  147.59  147.59               59.83   59.83   59.83   \n",
       "17           147.59  147.59  147.59               79.82   79.82   79.82   \n",
       "18           157.11  157.11  157.11                9.84    9.84    9.84   \n",
       "19           157.11  157.11  157.11               29.84   29.84   29.84   \n",
       "20           157.11  157.11  157.11               49.83   49.83   49.83   \n",
       "21           157.11  157.11  157.11               69.82   69.82   69.82   \n",
       "22           157.11  157.11  157.11               89.82   89.82   89.82   \n",
       "23           166.68  166.68  166.68                0.00    0.00    0.00   \n",
       "24           166.68  166.68  166.68               19.84   19.84   19.84   \n",
       "25           166.68  166.68  166.68               39.83   39.83   39.83   \n",
       "26           166.68  166.68  166.68               59.83   59.83   59.83   \n",
       "27           166.68  166.68  166.68               79.82   79.82   79.82   \n",
       "28           176.31  176.31  176.31                9.84    9.84    9.84   \n",
       "29           176.31  176.31  176.31               29.84   29.84   29.84   \n",
       "..              ...     ...     ...                 ...     ...     ...   \n",
       "231          342.21  342.21  342.21               14.84   14.84   14.84   \n",
       "232          342.21  342.21  342.21              134.80  134.80  134.80   \n",
       "233          344.19  344.19  344.19               89.82   89.82   89.82   \n",
       "234          346.17  346.17  346.17               44.83   44.83   44.83   \n",
       "235          346.17  346.17  346.17              164.79  164.79  164.79   \n",
       "236          348.15  348.15  348.15                0.00    0.00    0.00   \n",
       "237          348.15  348.15  348.15              119.81  119.81  119.81   \n",
       "238          350.13  350.13  350.13               74.82   74.82   74.82   \n",
       "239          350.13  350.13  350.13              194.78  194.78  194.78   \n",
       "240          352.11  352.11  352.11               29.84   29.84   29.84   \n",
       "241          352.11  352.11  352.11              149.80  149.80  149.80   \n",
       "242          354.10  354.10  354.10              104.81  104.81  104.81   \n",
       "243          355.09  355.09  355.09               59.83   59.83   59.83   \n",
       "244          355.09  355.09  355.09              179.79  179.79  179.79   \n",
       "245          357.07  357.07  357.07               14.84   14.84   14.84   \n",
       "246          357.07  357.07  357.07              134.80  134.80  134.80   \n",
       "247          359.05  359.05  359.05               89.82   89.82   89.82   \n",
       "248          359.05  359.05  359.05              209.78  209.78  209.78   \n",
       "249          361.04  361.04  361.04               44.83   44.83   44.83   \n",
       "250          361.04  361.04  361.04              164.79  164.79  164.79   \n",
       "251          363.02  363.02  363.02                0.00    0.00    0.00   \n",
       "252          363.02  363.02  363.02              119.81  119.81  119.81   \n",
       "253          365.00  365.00  365.00               74.82   74.82   74.82   \n",
       "254          365.00  365.00  365.00              194.78  194.78  194.78   \n",
       "255          366.99  366.99  366.99               29.84   29.84   29.84   \n",
       "256          366.99  366.99  366.99              149.80  149.80  149.80   \n",
       "257          368.97  368.97  368.97              104.81  104.81  104.81   \n",
       "258          370.95  370.95  370.95               59.83   59.83   59.83   \n",
       "259          370.95  370.95  370.95              179.79  179.79  179.79   \n",
       "260          370.95  370.95  370.95              179.79  179.79  179.79   \n",
       "\n",
       "     y_sigma_fb  \n",
       "0         72.03  \n",
       "1        569.80  \n",
       "2       2621.74  \n",
       "3         29.21  \n",
       "4         20.06  \n",
       "5         37.14  \n",
       "6        108.10  \n",
       "7         16.83  \n",
       "8         15.39  \n",
       "9         16.56  \n",
       "10        68.65  \n",
       "11        12.03  \n",
       "12        13.00  \n",
       "13        15.92  \n",
       "14        54.26  \n",
       "15         9.70  \n",
       "16        17.22  \n",
       "17        49.28  \n",
       "18         8.13  \n",
       "19         8.79  \n",
       "20         8.92  \n",
       "21        14.82  \n",
       "22        39.71  \n",
       "23         6.45  \n",
       "24         7.79  \n",
       "25         8.51  \n",
       "26         8.16  \n",
       "27        16.47  \n",
       "28         4.39  \n",
       "29         5.42  \n",
       "..          ...  \n",
       "231        2.30  \n",
       "232        3.03  \n",
       "233        2.67  \n",
       "234        2.59  \n",
       "235        3.81  \n",
       "236        2.08  \n",
       "237        2.79  \n",
       "238        2.80  \n",
       "239        2.91  \n",
       "240        2.46  \n",
       "241        2.74  \n",
       "242        2.65  \n",
       "243        2.44  \n",
       "244        3.24  \n",
       "245        2.34  \n",
       "246        3.01  \n",
       "247        2.29  \n",
       "248        5.48  \n",
       "249        2.28  \n",
       "250        2.89  \n",
       "251        2.55  \n",
       "252        2.63  \n",
       "253        2.82  \n",
       "254        3.10  \n",
       "255        2.45  \n",
       "256        2.97  \n",
       "257        2.40  \n",
       "258        2.42  \n",
       "259        3.19  \n",
       "260        3.19  \n",
       "\n",
       "[261 rows x 7 columns]"
      ]
     },
     "execution_count": 25,
     "metadata": {},
     "output_type": "execute_result"
    }
   ],
   "source": [
    "data_exp"
   ]
  },
  {
   "cell_type": "code",
   "execution_count": 26,
   "metadata": {
    "collapsed": true
   },
   "outputs": [],
   "source": [
    "# New dataframe\n",
    "names=['MF', 'MS', 'Sigma_Exp_fb', 'Sigma_Model_fb']\n",
    "data = pd.DataFrame(columns=names)"
   ]
  },
  {
   "cell_type": "code",
   "execution_count": 27,
   "metadata": {},
   "outputs": [],
   "source": [
    "data['MF'] = data_exp['x_Mslepton_Gev']\n",
    "data['MS'] = data_exp['x2_Mneutralino_GeV']\n",
    "data['Sigma_Exp_fb'] = data_exp['y_sigma_fb']"
   ]
  },
  {
   "cell_type": "code",
   "execution_count": 28,
   "metadata": {},
   "outputs": [
    {
     "name": "stdout",
     "output_type": "stream",
     "text": [
      "160605453557.0 -4.18756921145\n"
     ]
    }
   ],
   "source": [
    "print a, b"
   ]
  },
  {
   "cell_type": "code",
   "execution_count": 29,
   "metadata": {
    "collapsed": true
   },
   "outputs": [],
   "source": [
    "data['Sigma_Model_fb'] = a*data['MF']**b"
   ]
  },
  {
   "cell_type": "code",
   "execution_count": 30,
   "metadata": {},
   "outputs": [],
   "source": [
    "#data.to_csv('colliders/data_with_ATLAS', index_col=0)"
   ]
  },
  {
   "cell_type": "code",
   "execution_count": 31,
   "metadata": {},
   "outputs": [],
   "source": [
    "# Exclusion regions\n",
    "excluded = data[data['Sigma_Exp_fb'] > data['Sigma_Model_fb']]\n",
    "not_excluded = data[data['Sigma_Exp_fb'] < data['Sigma_Model_fb']]"
   ]
  },
  {
   "cell_type": "code",
   "execution_count": 32,
   "metadata": {},
   "outputs": [
    {
     "data": {
      "text/plain": [
       "(50, 600)"
      ]
     },
     "execution_count": 32,
     "metadata": {},
     "output_type": "execute_result"
    },
    {
     "data": {
      "image/png": "[encoded data removed]",
      "text/plain": [
       "<matplotlib.figure.Figure at 0x7f25441ee590>"
      ]
     },
     "metadata": {},
     "output_type": "display_data"
    }
   ],
   "source": [
    "plot(excluded['MF'], excluded['MS'], 'r.', label='excluded')\n",
    "plot(not_excluded['MF'], not_excluded['MS'], 'g.', label='not excluded')\n",
    "legend()\n",
    "xlabel(r'$M_F$', size=15)\n",
    "ylabel(r'$M_S$', size=15)\n",
    "xlim(50, 600)"
   ]
  },
  {
   "cell_type": "code",
   "execution_count": 33,
   "metadata": {},
   "outputs": [
    {
     "name": "stdout",
     "output_type": "stream",
     "text": [
      "0.0 209.78\n"
     ]
    }
   ],
   "source": [
    "print data[data['MF']>350].MS.min(), data[data['MF']>350].MS.max() "
   ]
  },
  {
   "cell_type": "code",
   "execution_count": 34,
   "metadata": {},
   "outputs": [
    {
     "name": "stderr",
     "output_type": "stream",
     "text": [
      "/usr/local/lib/python2.7/dist-packages/ipykernel_launcher.py:2: FutureWarning: sort(columns=....) is deprecated, use sort_values(by=.....)\n",
      "  \n"
     ]
    }
   ],
   "source": [
    "# Dataframe to extrapolate\n",
    "extrapol = data[data['MF']>356].sort('MS')\n",
    "extrapol = extrapol.reset_index(drop=True)"
   ]
  },
  {
   "cell_type": "code",
   "execution_count": 35,
   "metadata": {},
   "outputs": [],
   "source": [
    "extrapol['MF']=0.0\n",
    "extrapol['Sigma_Model_fb']=0.0"
   ]
  },
  {
   "cell_type": "code",
   "execution_count": 36,
   "metadata": {},
   "outputs": [
    {
     "data": {
      "text/plain": [
       "array([ 380.,  390.,  400.,  410.,  420.,  430.,  440.,  450.,  460.,\n",
       "        470.,  480.,  490.,  500.])"
      ]
     },
     "execution_count": 36,
     "metadata": {},
     "output_type": "execute_result"
    }
   ],
   "source": [
    "m = linspace(380.0, 500.0, 13 )\n",
    "m"
   ]
  },
  {
   "cell_type": "code",
   "execution_count": 37,
   "metadata": {
    "collapsed": true
   },
   "outputs": [],
   "source": [
    "kk = pd.DataFrame()"
   ]
  },
  {
   "cell_type": "code",
   "execution_count": 38,
   "metadata": {},
   "outputs": [],
   "source": [
    "for i in m:\n",
    "    extrapol['MF']=i\n",
    "    kk = kk.append(extrapol)\n",
    "kk = kk.reset_index(drop=True)\n",
    "kk['Sigma_Model_fb'] = a*kk['MF']**b"
   ]
  },
  {
   "cell_type": "code",
   "execution_count": 39,
   "metadata": {},
   "outputs": [],
   "source": [
    "data = data.append(kk)\n",
    "data = data.reset_index(drop=True)"
   ]
  },
  {
   "cell_type": "code",
   "execution_count": 40,
   "metadata": {
    "collapsed": true
   },
   "outputs": [],
   "source": [
    "# Exclusion regions\n",
    "excluded = data[data['Sigma_Exp_fb'] > data['Sigma_Model_fb']]\n",
    "not_excluded = data[data['Sigma_Exp_fb'] < data['Sigma_Model_fb']]"
   ]
  },
  {
   "cell_type": "code",
   "execution_count": 41,
   "metadata": {},
   "outputs": [
    {
     "data": {
      "text/plain": [
       "(50, 600)"
      ]
     },
     "execution_count": 41,
     "metadata": {},
     "output_type": "execute_result"
    },
    {
     "data": {
      "image/png": "[encoded data removed]",
      "text/plain": [
       "<matplotlib.figure.Figure at 0x7f2544338a50>"
      ]
     },
     "metadata": {},
     "output_type": "display_data"
    }
   ],
   "source": [
    "plot(excluded['MF'], excluded['MS'], 'r.', label='excluded')\n",
    "plot(not_excluded['MF'], not_excluded['MS'], 'g.', label='not excluded')\n",
    "legend()\n",
    "xlabel(r'$M_F$', size=15)\n",
    "ylabel(r'$M_S$', size=15)\n",
    "xlim(50, 600)"
   ]
  },
  {
   "cell_type": "markdown",
   "metadata": {},
   "source": [
    "# Exclusion Regions: Line"
   ]
  },
  {
   "cell_type": "code",
   "execution_count": 42,
   "metadata": {},
   "outputs": [
    {
     "name": "stderr",
     "output_type": "stream",
     "text": [
      "/usr/local/lib/python2.7/dist-packages/ipykernel_launcher.py:1: FutureWarning: sort(columns=....) is deprecated, use sort_values(by=.....)\n",
      "  \"\"\"Entry point for launching an IPython kernel.\n"
     ]
    },
    {
     "data": {
      "text/plain": [
       "(233, 4)"
      ]
     },
     "execution_count": 42,
     "metadata": {},
     "output_type": "execute_result"
    }
   ],
   "source": [
    "d_ms = not_excluded.sort('MS')\n",
    "d_ms = d_ms.reset_index(drop=True)\n",
    "d_ms.shape"
   ]
  },
  {
   "cell_type": "code",
   "execution_count": 43,
   "metadata": {},
   "outputs": [],
   "source": [
    "pos = np.zeros(30, dtype=int)\n",
    "cont = 0\n",
    "for i in range(1,d_ms.shape[0]-1):\n",
    "    if d_ms['MS'][i]!=d_ms['MS'][i-1]:\n",
    "        pos[cont] = i\n",
    "        cont = cont +1\n",
    "        #print i, cont\n",
    "pos[cont] = d_ms.shape[0]-1 "
   ]
  },
  {
   "cell_type": "code",
   "execution_count": 44,
   "metadata": {},
   "outputs": [
    {
     "data": {
      "text/plain": [
       "array([ 15,  25,  30,  40,  58,  69,  74,  86, 103, 113, 118, 128, 143,\n",
       "       152, 158, 167, 180, 188, 192, 198, 208, 213, 216, 221, 227, 229,\n",
       "       232,   0,   0,   0])"
      ]
     },
     "execution_count": 44,
     "metadata": {},
     "output_type": "execute_result"
    }
   ],
   "source": [
    "pos"
   ]
  },
  {
   "cell_type": "code",
   "execution_count": 45,
   "metadata": {},
   "outputs": [
    {
     "name": "stdout",
     "output_type": "stream",
     "text": [
      "101.41 363.02\n"
     ]
    }
   ],
   "source": [
    "print d_ms['MF'][0:15].min(),d_ms['MF'][0:15].max() "
   ]
  },
  {
   "cell_type": "code",
   "execution_count": 46,
   "metadata": {
    "collapsed": true
   },
   "outputs": [],
   "source": [
    "ll = pd.DataFrame(columns=['MS', 'MF_min', 'MF_max'], index = range(0,cont+1))"
   ]
  },
  {
   "cell_type": "code",
   "execution_count": 47,
   "metadata": {},
   "outputs": [],
   "source": [
    "for pp in range (0, cont+1):\n",
    "    #print pp, pos[pp-1], d_ms['MS'][pos[pp-1]]\n",
    "    #print d_ms['MF'][pos[pp-1]:pos[pp]].min()\n",
    "    ll['MS'][pp] = d_ms['MS'][pos[pp-1]]\n",
    "    ll['MF_min'][pp] = d_ms['MF'][pos[pp-1]:pos[pp]].min()  \n",
    "    ll['MF_max'][pp] = d_ms['MF'][pos[pp-1]:pos[pp]].max()"
   ]
  },
  {
   "cell_type": "code",
   "execution_count": 48,
   "metadata": {},
   "outputs": [
    {
     "data": {
      "text/plain": [
       "(50, 600)"
      ]
     },
     "execution_count": 48,
     "metadata": {},
     "output_type": "execute_result"
    },
    {
     "data": {
      "image/png": "[encoded data removed]",
      "text/plain": [
       "<matplotlib.figure.Figure at 0x7f2544238f10>"
      ]
     },
     "metadata": {},
     "output_type": "display_data"
    }
   ],
   "source": [
    "plot(excluded['MF'], excluded['MS'], 'r.', label='excluded')\n",
    "plot(not_excluded['MF'], not_excluded['MS'], 'g.', label='not excluded')\n",
    "plot(ll['MF_min'], ll['MS'], 'b+')\n",
    "plot(ll['MF_max'], ll['MS'], 'b^')\n",
    "legend()\n",
    "xlabel(r'$M_F$', size=15)\n",
    "ylabel(r'$M_S$', size=15)\n",
    "xlim(50, 600)"
   ]
  },
  {
   "cell_type": "code",
   "execution_count": 49,
   "metadata": {},
   "outputs": [],
   "source": [
    "ll_a = ll[ll['MF_min']<300]\n",
    "ll_b = ll[ll['MF_max']>320]"
   ]
  },
  {
   "cell_type": "code",
   "execution_count": 50,
   "metadata": {},
   "outputs": [
    {
     "data": {
      "text/plain": [
       "(50, 600)"
      ]
     },
     "execution_count": 50,
     "metadata": {},
     "output_type": "execute_result"
    },
    {
     "data": {
      "image/png": "[encoded data removed]",
      "text/plain": [
       "<matplotlib.figure.Figure at 0x7f2543fce950>"
      ]
     },
     "metadata": {},
     "output_type": "display_data"
    }
   ],
   "source": [
    "plot(excluded['MF'], excluded['MS'], 'r.', label='excluded')\n",
    "plot(not_excluded['MF'], not_excluded['MS'], 'g.', label='not excluded')\n",
    "\n",
    "#plot(ll['MF_min'], ll['MS'], 'b+')\n",
    "#plot(ll_a['MF_min'], ll_a['MS'], 'bo')\n",
    "\n",
    "plot(ll['MF_max'], ll['MS'], 'b+')\n",
    "plot(ll_b['MF_max'], ll_b['MS'], 'bo')\n",
    "\n",
    "legend()\n",
    "xlabel(r'$M_F$', size=15)\n",
    "ylabel(r'$M_S$', size=15)\n",
    "xlim(50, 600)"
   ]
  },
  {
   "cell_type": "code",
   "execution_count": 51,
   "metadata": {},
   "outputs": [
    {
     "data": {
      "text/plain": [
       "(50, 600)"
      ]
     },
     "execution_count": 51,
     "metadata": {},
     "output_type": "execute_result"
    },
    {
     "data": {
      "image/png": "[encoded data removed]",
      "text/plain": [
       "<matplotlib.figure.Figure at 0x7f25443d3450>"
      ]
     },
     "metadata": {},
     "output_type": "display_data"
    }
   ],
   "source": [
    "plot(excluded['MF'], excluded['MS'], 'r.', label='excluded')\n",
    "plot(not_excluded['MF'], not_excluded['MS'], 'g.', label='not excluded')\n",
    "\n",
    "plot(ll_a['MF_min'], ll_a['MS'], 'b+')\n",
    "\n",
    "plot(ll_b['MF_max'], ll_b['MS'], 'bo')\n",
    "\n",
    "legend()\n",
    "xlabel(r'$M_F$', size=15)\n",
    "ylabel(r'$M_S$', size=15)\n",
    "xlim(50, 600)"
   ]
  },
  {
   "cell_type": "code",
   "execution_count": 52,
   "metadata": {},
   "outputs": [],
   "source": [
    "ll_a = ll_a.append(ll_b.iloc[-1])"
   ]
  },
  {
   "cell_type": "code",
   "execution_count": 53,
   "metadata": {},
   "outputs": [
    {
     "data": {
      "text/plain": [
       "(50, 600)"
      ]
     },
     "execution_count": 53,
     "metadata": {},
     "output_type": "execute_result"
    },
    {
     "data": {
      "image/png": "[encoded data removed]",
      "text/plain": [
       "<matplotlib.figure.Figure at 0x7f2543fcec90>"
      ]
     },
     "metadata": {},
     "output_type": "display_data"
    }
   ],
   "source": [
    "plot(excluded['MF'], excluded['MS'], 'r.', label='excluded')\n",
    "plot(not_excluded['MF'], not_excluded['MS'], 'g.', label='not excluded')\n",
    "plot(ll_a['MF_min'], ll_a['MS'], 'b+')\n",
    "plot(ll_b['MF_max'], ll_b['MS'], 'bo')\n",
    "legend()\n",
    "xlabel(r'$M_F$', size=15)\n",
    "ylabel(r'$M_S$', size=15)\n",
    "xlim(50, 600)"
   ]
  },
  {
   "cell_type": "code",
   "execution_count": 54,
   "metadata": {},
   "outputs": [],
   "source": [
    "ll_a = ll_a.drop('MF_max',1)\n",
    "ll_b = ll_b.drop('MF_min', 1)"
   ]
  },
  {
   "cell_type": "code",
   "execution_count": 55,
   "metadata": {},
   "outputs": [],
   "source": [
    "ll_a = ll_a.rename(columns={'MF_min':'MF'})\n",
    "ll_b = ll_b.rename(columns={'MF_max':'MF'})"
   ]
  },
  {
   "cell_type": "code",
   "execution_count": 56,
   "metadata": {},
   "outputs": [
    {
     "name": "stderr",
     "output_type": "stream",
     "text": [
      "/usr/local/lib/python2.7/dist-packages/ipykernel_launcher.py:1: FutureWarning: sort(columns=....) is deprecated, use sort_values(by=.....)\n",
      "  \"\"\"Entry point for launching an IPython kernel.\n"
     ]
    }
   ],
   "source": [
    "ll_b = ll_b.sort('MS', ascending=False)"
   ]
  },
  {
   "cell_type": "code",
   "execution_count": 57,
   "metadata": {
    "collapsed": true
   },
   "outputs": [],
   "source": [
    "final_ll = ll_a.append(ll_b)\n",
    "final_ll = final_ll.reset_index(drop=True)"
   ]
  },
  {
   "cell_type": "code",
   "execution_count": 58,
   "metadata": {},
   "outputs": [
    {
     "data": {
      "text/plain": [
       "(50, 600)"
      ]
     },
     "execution_count": 58,
     "metadata": {},
     "output_type": "execute_result"
    },
    {
     "data": {
      "image/png": "[encoded data removed]",
      "text/plain": [
       "<matplotlib.figure.Figure at 0x7f2543f06b10>"
      ]
     },
     "metadata": {},
     "output_type": "display_data"
    }
   ],
   "source": [
    "plot(excluded['MF'], excluded['MS'], 'r.', label='excluded')\n",
    "plot(not_excluded['MF'], not_excluded['MS'], 'g.', label='not excluded')\n",
    "plot(final_ll['MF'], final_ll['MS'], 'b-')\n",
    "legend()\n",
    "xlabel(r'$M_F$', size=15)\n",
    "ylabel(r'$M_S$', size=15)\n",
    "xlim(50, 600)"
   ]
  },
  {
   "cell_type": "code",
   "execution_count": null,
   "metadata": {
    "collapsed": true
   },
   "outputs": [],
   "source": []
  }
 ],
 "metadata": {
  "kernelspec": {
   "display_name": "Python 2",
   "language": "python",
   "name": "python2"
  },
  "language_info": {
   "codemirror_mode": {
    "name": "ipython",
    "version": 2
   },
   "file_extension": ".py",
   "mimetype": "text/x-python",
   "name": "python",
   "nbconvert_exporter": "python",
   "pygments_lexer": "ipython2",
   "version": "2.7.9"
  },
  "toc": {
   "colors": {
    "hover_highlight": "#DAA520",
    "running_highlight": "#FF0000",
    "selected_highlight": "#FFD700"
   },
   "moveMenuLeft": true,
   "nav_menu": {
    "height": "84px",
    "width": "252px"
   },
   "navigate_menu": true,
   "number_sections": true,
   "sideBar": true,
   "threshold": 4,
   "toc_cell": false,
   "toc_section_display": "block",
   "toc_window_display": false
  }
 },
 "nbformat": 4,
 "nbformat_minor": 1
}
